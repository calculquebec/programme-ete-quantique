{
 "cells": [
  {
   "cell_type": "markdown",
   "metadata": {},
   "source": [
    "# SOLUTION KEY"
   ]
  },
  {
   "cell_type": "code",
   "execution_count": 6,
   "metadata": {},
   "outputs": [],
   "source": [
    "import pennylane as qml\n",
    "import numpy as np\n",
    "from print_latex import print_state_vector"
   ]
  },
  {
   "cell_type": "markdown",
   "metadata": {},
   "source": [
    "## NOTEBOOK 1 : Build a one-qubit simulator"
   ]
  },
  {
   "cell_type": "code",
   "execution_count": null,
   "metadata": {},
   "outputs": [],
   "source": [
    "#EXERCISE 1\n",
    "def qubit_state(alpha, beta):\n",
    "    \"\"\"\n",
    "    Creates an arbitrary qubit state |ψ⟩ according to coefficients alpha and beta.\n",
    "    \n",
    "    Args:\n",
    "        alpha (complex): Amplitude of state |0⟩\n",
    "        beta (complex): Amplitude of state |1⟩\n",
    "        \n",
    "    Returns:\n",
    "       numpy.ndarray: qubit state vector [alpha, beta]\n",
    "    \"\"\"\n",
    "    # Define |0⟩ and |1⟩\n",
    "    ket_0 = np.array([1,0])\n",
    "    ket_1 = np.array([0,1])\n",
    "    \n",
    "    # Construct the qubit state |ψ⟩\n",
    "    psi = (alpha * ket_0) + (beta * ket_1)\n",
    "\n",
    "    # Retourner the qubit state  \n",
    "    return psi\n",
    "\n",
    "# Test with alpha = 1/2 and beta = sqrt(3)/2 * i\n",
    "alpha_test = 1/2.0\n",
    "beta_test = np.sqrt(3)/2 * 1j\n",
    "\n",
    "psi = qubit_state(alpha_test, beta_test)\n",
    "print(\"State |ψ⟩ :\", psi)"
   ]
  },
  {
   "cell_type": "code",
   "execution_count": null,
   "metadata": {},
   "outputs": [],
   "source": [
    "def is_normalized(state):  \n",
    "    \"\"\"Checks that an arbitary quantum state is normalized .  \n",
    "\n",
    "    Args:  \n",
    "        state (np.array): qubit state vector\n",
    "\n",
    "    Returns:  \n",
    "        Bool: True if the vector is normalized, false otherwise.  \n",
    "    \"\"\"  \n",
    "    norm = np.conj(alpha)*alpha + np.conj(beta)*beta\n",
    "    return np.isclose(norm, 1)  \n",
    "\n",
    "# Test the function  \n",
    "alpha = 1/2  \n",
    "beta = np.sqrt(3)/2 * 1j  \n",
    "psi = qubit_state(alpha, beta)  \n",
    "is_normalized = is_normalized(psi)\n",
    "\n",
    "print(\"Qubit state :\", psi)  \n",
    "print(\"Normalized :\", is_normalized)  "
   ]
  },
  {
   "cell_type": "code",
   "execution_count": null,
   "metadata": {},
   "outputs": [],
   "source": [
    "#EXERCISE 3\n",
    "def apply_H(state, H):\n",
    "    \"\"\"\n",
    "    Applies a quantum gate to a given quantum state. \n",
    "    \n",
    "    Args:\n",
    "        state (np.array): qubit state vector\n",
    "        H (np.array): 2x2 unitary matrix representing the Hadmard gate \n",
    "        \n",
    "    Returns:\n",
    "        np.array: New qubit state after applying the matrix H \n",
    "    \"\"\"\n",
    "    #  Apply matrix H to the qubit state and return the new state\n",
    "    return np.dot(H, ket_0)\n",
    "    \n",
    "# Define the Hadamard matrix\n",
    "H = 1/np.sqrt(2) * np.array([[1, 1], [1, -1]])\n",
    "\n",
    "# Test the function with |0⟩ and H\n",
    "ket_0 = np.array([1, 0])\n",
    "new_ket = apply_H(ket_0, H)\n",
    "print(\"New quantum state after applying H :\", new_ket)"
   ]
  },
  {
   "cell_type": "code",
   "execution_count": null,
   "metadata": {},
   "outputs": [],
   "source": [
    "#EXERCISE 4\n",
    "def measurement_probabilities(state):  \n",
    "    \"\"\"\n",
    "    Calculates the probabilities of measuring |0⟩ and |1⟩ from a given quantum state.  \n",
    "\n",
    "    Args:  \n",
    "        state (np.array): Vector representing the state of the qubit.  \n",
    "\n",
    "    Returns:  \n",
    "        tuple: Probabilities (P0, P1) corresponding to measurements |0⟩ and |1⟩.  \n",
    "    \"\"\"\n",
    "\n",
    "    P0 = np.conj(state[0])*state[0]\n",
    "    P1 = np.conj(state[1])*state[1]\n",
    "    return P0, P1  \n",
    "\n",
    "# Define the superposition state\n",
    "psi = (1 / np.sqrt(2)) * np.array([1, 1])  \n",
    "\n",
    "# Test the function  \n",
    "P0, P1 = measurement_probabilities(psi)  \n",
    "print(P0, P1)  "
   ]
  },
  {
   "cell_type": "code",
   "execution_count": null,
   "metadata": {},
   "outputs": [],
   "source": [
    "#EXERCISE 5\n",
    "def simulate_measurements(probs, num_samples = 1000):  \n",
    "    \"\"\"Simulates quantum measurements by sampling the probability distribution of a quantum state.  \n",
    "\n",
    "    Args:  \n",
    "        probs (tuple): |0⟩ and |1⟩ measurement probabilities . \n",
    "        num_samples (int): Number of measurements (\"shots\") to simulate.  \n",
    "\n",
    "    Returns:  \n",
    "        dict: Number of occurrences of each result (0 or 1). \n",
    "    \"\"\"  \n",
    "    results = np.random.choice([0, 1], p = probs, size = num_samples) \n",
    "    \n",
    "     #It's nicer to pack everything into a dictionnary that counts 0 and 1 than to look at a list of 0 and 1.\n",
    "    return dict(zip(*np.unique(results, return_counts=True)))  \n",
    "\n",
    "# Probabilities obtained previously  \n",
    "probs = (P0, P1)  \n",
    "\n",
    "# Test the function  \n",
    "measurement_results = simulate_measurements(probs)  \n",
    "print(measurement_results)  "
   ]
  },
  {
   "cell_type": "markdown",
   "metadata": {},
   "source": [
    "## NOTEBOOK 2 : PennyLane"
   ]
  },
  {
   "cell_type": "code",
   "execution_count": null,
   "metadata": {},
   "outputs": [],
   "source": [
    "#EXERCISE 1\n",
    "dev = qml.device(\"default.qubit\", wires = 2)\n",
    "@qml.qnode(dev)\n",
    "def circuit():\n",
    "    qml.Hadamard(wires = 0)\n",
    "    qml.CNOT(wires = [0,1])\n",
    "    return qml.state()"
   ]
  },
  {
   "cell_type": "code",
   "execution_count": null,
   "metadata": {},
   "outputs": [],
   "source": [
    "#EXERCISE 2\n",
    "\n",
    "dev = qml.device('default.qubit', wires = 2)\n",
    "@qml.qnode(dev)\n",
    "def phi_minus():\n",
    " \n",
    "    qml.PauliX(wires = 0)\n",
    "    qml.Hadamard(wires = 0)\n",
    "    qml.CNOT(wires = [0,1])\n",
    "    return qml.state()\n",
    "\n",
    "@qml.qnode(dev)\n",
    "def psi_plus():\n",
    "\n",
    "  qml.Hadamard(wires = 0)\n",
    "  qml.CNOT(wires = [0,1])\n",
    "  qml.PauliX(wires = 0)\n",
    "  return qml.state()\n",
    "\n",
    "@qml.qnode(dev)\n",
    "def psi_minus():\n",
    "\n",
    "  qml.Hadamard(wires = 0)\n",
    "  qml.CNOT(wires = [0,1])\n",
    "  qml.Z(wires = 0)\n",
    "  qml.X(wires = 1)\n",
    "  return qml.state()\n",
    "\n",
    "print_state_vector(phi_minus())\n",
    "print_state_vector(psi_plus())\n",
    "print_state_vector(psi_minus())\n"
   ]
  },
  {
   "cell_type": "code",
   "execution_count": null,
   "metadata": {},
   "outputs": [],
   "source": [
    "#EXERCISE 3a\n",
    "dev = qml.device('default.qubit', wires=1)\n",
    "@qml.qnode(dev)\n",
    "def prepare_with_gate():\n",
    "  qml.RX(np.pi/3, wires = 0)\n",
    "  return qml.state()\n",
    "\n",
    "print_state_vector(prepare_with_gate())\n",
    "\n",
    "#EXERCISE 3b\n",
    "state = np.array([np.sqrt(3)/2, -0.5j])\n",
    "\n",
    "@qml.qnode(dev)\n",
    "def prepare_with_StatePrep(state):\n",
    "  qml.StatePrep(state=state, wires=0)\n",
    "  return qml.state()\n",
    "\n",
    "print_state_vector(prepare_with_statePrep(state))"
   ]
  },
  {
   "cell_type": "code",
   "execution_count": null,
   "metadata": {},
   "outputs": [],
   "source": [
    "#EXERCISE 4\n",
    "num_shots = [1,10,100,1000, 5000]\n",
    "res = []\n",
    "for shot in num_shots:\n",
    "    dev = qml.device('default.qubit', wires = 2, shots = shot)\n",
    "    @qml.qnode(dev)\n",
    "    def bell_probs():\n",
    "        bell()\n",
    "        return qml.probs()\n",
    "    \n",
    "    res.append(bell_probs())\n",
    "print(res)\n",
    "\n",
    "dev = qml.device('default.qubit', wires = 1)\n",
    "@qml.qnode(dev)\n",
    "def circuit():\n",
    "\n",
    "    qml.Hadamard(wires = 0)\n",
    "    qml.Z(wires = 0)\n",
    "\n",
    "    return qml.expval(qml.Z(wires = 0))\n",
    "    \n",
    "print(circuit())"
   ]
  },
  {
   "cell_type": "code",
   "execution_count": null,
   "metadata": {},
   "outputs": [],
   "source": []
  }
 ],
 "metadata": {
  "kernelspec": {
   "display_name": "Python 3",
   "language": "python",
   "name": "python3"
  },
  "language_info": {
   "codemirror_mode": {
    "name": "ipython",
    "version": 3
   },
   "file_extension": ".py",
   "mimetype": "text/x-python",
   "name": "python",
   "nbconvert_exporter": "python",
   "pygments_lexer": "ipython3",
   "version": "3.11.5"
  }
 },
 "nbformat": 4,
 "nbformat_minor": 4
}
